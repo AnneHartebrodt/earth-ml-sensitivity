{
 "cells": [
  {
   "cell_type": "markdown",
   "id": "55b496d0",
   "metadata": {},
   "source": [
    "### load modules and download pre-trained ESM models"
   ]
  },
  {
   "cell_type": "code",
   "execution_count": 1,
   "id": "515dd333",
   "metadata": {},
   "outputs": [],
   "source": [
    "import torch\n",
    "import esm\n",
    "\n",
    "# Load ESM-2 model\n",
    "model, alphabet = esm.pretrained.esm2_t6_8M_UR50D()\n",
    "#model, alphabet = esm.pretrained.esm2_t36_3B_UR50D()\n",
    "#model, alphabet = esm.pretrained.esm2_t48_15B_UR50D()\n",
    "batch_converter = alphabet.get_batch_converter()\n",
    "model.eval()  # disables dropout for deterministic results\n",
    "\n",
    "import pandas as pd\n",
    "import numpy as np"
   ]
  },
  {
   "cell_type": "markdown",
   "id": "c232b9e3",
   "metadata": {},
   "source": [
    "### read 567 sdabs in fasta file"
   ]
  },
  {
   "cell_type": "code",
   "execution_count": 1,
   "id": "b3e729e1",
   "metadata": {},
   "outputs": [
    {
     "ename": "FileNotFoundError",
     "evalue": "[Errno 2] No such file or directory: '../data/sdabs.fasta'",
     "output_type": "error",
     "traceback": [
      "\u001b[0;31m---------------------------------------------------------------------------\u001b[0m",
      "\u001b[0;31mFileNotFoundError\u001b[0m                         Traceback (most recent call last)",
      "Cell \u001b[0;32mIn[1], line 13\u001b[0m\n\u001b[1;32m     10\u001b[0m         \u001b[38;5;28;01mif\u001b[39;00m name: \u001b[38;5;28;01myield\u001b[39;00m (name, \u001b[38;5;124m'\u001b[39m\u001b[38;5;124m'\u001b[39m\u001b[38;5;241m.\u001b[39mjoin(seq))\n\u001b[1;32m     12\u001b[0m data \u001b[38;5;241m=\u001b[39m []\n\u001b[0;32m---> 13\u001b[0m \u001b[38;5;28;01mwith\u001b[39;00m \u001b[38;5;28;43mopen\u001b[39;49m\u001b[43m(\u001b[49m\u001b[38;5;124;43m'\u001b[39;49m\u001b[38;5;124;43m../data/sdabs.fasta\u001b[39;49m\u001b[38;5;124;43m'\u001b[39;49m\u001b[43m)\u001b[49m \u001b[38;5;28;01mas\u001b[39;00m fp:\n\u001b[1;32m     14\u001b[0m     \u001b[38;5;28;01mfor\u001b[39;00m name, seq \u001b[38;5;129;01min\u001b[39;00m read_fasta(fp):\n\u001b[1;32m     15\u001b[0m         data\u001b[38;5;241m.\u001b[39mappend((name, seq))\n",
      "File \u001b[0;32m~/miniforge3/envs/bayer-hack/lib/python3.11/site-packages/IPython/core/interactiveshell.py:324\u001b[0m, in \u001b[0;36m_modified_open\u001b[0;34m(file, *args, **kwargs)\u001b[0m\n\u001b[1;32m    317\u001b[0m \u001b[38;5;28;01mif\u001b[39;00m file \u001b[38;5;129;01min\u001b[39;00m {\u001b[38;5;241m0\u001b[39m, \u001b[38;5;241m1\u001b[39m, \u001b[38;5;241m2\u001b[39m}:\n\u001b[1;32m    318\u001b[0m     \u001b[38;5;28;01mraise\u001b[39;00m \u001b[38;5;167;01mValueError\u001b[39;00m(\n\u001b[1;32m    319\u001b[0m         \u001b[38;5;124mf\u001b[39m\u001b[38;5;124m\"\u001b[39m\u001b[38;5;124mIPython won\u001b[39m\u001b[38;5;124m'\u001b[39m\u001b[38;5;124mt let you open fd=\u001b[39m\u001b[38;5;132;01m{\u001b[39;00mfile\u001b[38;5;132;01m}\u001b[39;00m\u001b[38;5;124m by default \u001b[39m\u001b[38;5;124m\"\u001b[39m\n\u001b[1;32m    320\u001b[0m         \u001b[38;5;124m\"\u001b[39m\u001b[38;5;124mas it is likely to crash IPython. If you know what you are doing, \u001b[39m\u001b[38;5;124m\"\u001b[39m\n\u001b[1;32m    321\u001b[0m         \u001b[38;5;124m\"\u001b[39m\u001b[38;5;124myou can use builtins\u001b[39m\u001b[38;5;124m'\u001b[39m\u001b[38;5;124m open.\u001b[39m\u001b[38;5;124m\"\u001b[39m\n\u001b[1;32m    322\u001b[0m     )\n\u001b[0;32m--> 324\u001b[0m \u001b[38;5;28;01mreturn\u001b[39;00m \u001b[43mio_open\u001b[49m\u001b[43m(\u001b[49m\u001b[43mfile\u001b[49m\u001b[43m,\u001b[49m\u001b[43m \u001b[49m\u001b[38;5;241;43m*\u001b[39;49m\u001b[43margs\u001b[49m\u001b[43m,\u001b[49m\u001b[43m \u001b[49m\u001b[38;5;241;43m*\u001b[39;49m\u001b[38;5;241;43m*\u001b[39;49m\u001b[43mkwargs\u001b[49m\u001b[43m)\u001b[49m\n",
      "\u001b[0;31mFileNotFoundError\u001b[0m: [Errno 2] No such file or directory: '../data/sdabs.fasta'"
     ]
    }
   ],
   "source": [
    "def read_fasta(fp):\n",
    "        name, seq = None, []\n",
    "        for line in fp:\n",
    "            line = line.rstrip()\n",
    "            if line.startswith(\">\"):\n",
    "                if name: yield (name, ''.join(seq))\n",
    "                name, seq = line, []\n",
    "            else:\n",
    "                seq.append(line)\n",
    "        if name: yield (name, ''.join(seq))\n",
    "\n",
    "data = []\n",
    "with open('../data/sdabs.fasta') as fp:\n",
    "    for name, seq in read_fasta(fp):\n",
    "        data.append((name, seq))"
   ]
  },
  {
   "cell_type": "code",
   "execution_count": null,
   "id": "0bf97cfb",
   "metadata": {},
   "outputs": [],
   "source": [
    "\n"
   ]
  },
  {
   "cell_type": "code",
   "execution_count": 7,
   "id": "1c51b6c1",
   "metadata": {},
   "outputs": [],
   "source": [
    "data = pd.read_csv('../data/sdab_data_crd3_mutations.csv', sep = '\\t')"
   ]
  },
  {
   "cell_type": "code",
   "execution_count": 12,
   "id": "a902ef64-9d60-4338-9a75-d04c8c675a42",
   "metadata": {},
   "outputs": [],
   "source": [
    "\n",
    "data = data[data.prob_mut>0.1]"
   ]
  },
  {
   "cell_type": "markdown",
   "id": "3646ad6b",
   "metadata": {},
   "source": [
    "### generate the embeddings"
   ]
  },
  {
   "cell_type": "code",
   "execution_count": 25,
   "id": "e4a4ca20",
   "metadata": {},
   "outputs": [
    {
     "name": "stdout",
     "output_type": "stream",
     "text": [
      "25\n",
      "50\n",
      "75\n",
      "100\n",
      "125\n",
      "150\n",
      "175\n",
      "200\n",
      "225\n",
      "250\n",
      "275\n",
      "300\n",
      "325\n",
      "350\n",
      "375\n",
      "400\n",
      "425\n",
      "450\n",
      "475\n",
      "500\n",
      "525\n",
      "550\n",
      "575\n"
     ]
    }
   ],
   "source": [
    "sequence_representations_list = []\n",
    "chunk_size = 25\n",
    "for i in range(0, len(data2), chunk_size):\n",
    "    chunk = data2[i:i+chunk_size]\n",
    "    print(i+chunk_size)\n",
    "    batch_labels, batch_strs, batch_tokens = batch_converter(chunk)\n",
    "    batch_lens = (batch_tokens != alphabet.padding_idx).sum(1)\n",
    "\n",
    "    # Extract per-residue representations (on CPU)\n",
    "    with torch.no_grad():\n",
    "        results = model(batch_tokens, repr_layers=[6], return_contacts=True) # ESM 650M\n",
    "        #results = model(batch_tokens, repr_layers=[36], return_contacts=True) # ESM 3B\n",
    "        #results = model(batch_tokens, repr_layers=[48], return_contacts=True) # ESM 15B\n",
    "    token_representations = results[\"representations\"][6] # ESM 650M\n",
    "    #token_representations = results[\"representations\"][36] # ESM 3B\n",
    "    #token_representations = results[\"representations\"][48] # ESM 15B\n",
    "\n",
    "    # Generate per-sequence representations via averaging\n",
    "    # NOTE: token 0 is always a beginning-of-sequence token, so the first residue is token 1.\n",
    "    sequence_representations = []\n",
    "    for i, tokens_len in enumerate(batch_lens):\n",
    "        sequence_representations.append(token_representations[i, 1 : tokens_len - 1].mean(0))\n",
    "\n",
    "    sequence_representations_list.append(sequence_representations)"
   ]
  },
  {
   "cell_type": "code",
   "execution_count": 26,
   "id": "5d859b76",
   "metadata": {},
   "outputs": [],
   "source": [
    "flat_list = [item for sublist in sequence_representations_list for item in sublist]"
   ]
  },
  {
   "cell_type": "code",
   "execution_count": 27,
   "id": "f9c0fce2",
   "metadata": {},
   "outputs": [
    {
     "data": {
      "text/plain": [
       "(567, 320)"
      ]
     },
     "execution_count": 27,
     "metadata": {},
     "output_type": "execute_result"
    }
   ],
   "source": [
    "X = torch.stack(flat_list, dim=0).cpu().detach().numpy()\n",
    "X.shape"
   ]
  },
  {
   "cell_type": "markdown",
   "id": "d27ff182",
   "metadata": {},
   "source": [
    "### save into csv files"
   ]
  },
  {
   "cell_type": "code",
   "execution_count": 28,
   "id": "c33026db",
   "metadata": {},
   "outputs": [],
   "source": [
    "np.savetxt(\"/home/bionets-og86asub/Documents/hackathon-bayer/sdab_data_master_list_t6.csv\", X, delimiter=\",\")\n",
    "\n",
    "#np.savetxt(\"sdab_data_master_list_t6.csv\", X, delimiter=\",\")\n",
    "\n",
    "#np.savetxt(\"sdab_data_master_list_650M.csv\", X, delimiter=\",\")\n",
    "#np.savetxt(\"sdab_data_master_list_3B.csv\", X, delimiter=\",\")\n",
    "#np.savetxt(\"sdab_data_master_list_15B.csv\", X, delimiter=\",\")"
   ]
  }
 ],
 "metadata": {
  "kernelspec": {
   "display_name": "Python 3 (ipykernel)",
   "language": "python",
   "name": "python3"
  },
  "language_info": {
   "codemirror_mode": {
    "name": "ipython",
    "version": 3
   },
   "file_extension": ".py",
   "mimetype": "text/x-python",
   "name": "python",
   "nbconvert_exporter": "python",
   "pygments_lexer": "ipython3",
   "version": "3.11.9"
  }
 },
 "nbformat": 4,
 "nbformat_minor": 5
}
